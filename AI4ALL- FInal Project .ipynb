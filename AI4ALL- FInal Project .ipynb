{
 "cells": [
  {
   "cell_type": "markdown",
   "id": "287a2cb6",
   "metadata": {},
   "source": [
    "# Introduction:\n",
    " place one here"
   ]
  },
  {
   "cell_type": "code",
   "execution_count": null,
   "id": "299765fb",
   "metadata": {},
   "outputs": [],
   "source": []
  },
  {
   "cell_type": "markdown",
   "id": "4b8775f6",
   "metadata": {},
   "source": [
    "## Major steps \n",
    "1. Set up a Super Mario Bros game Enviornment \n",
    "2. Preocess the game for Reinforcement Learning \n",
    "3. Train the model \n",
    "4. Save and load the trained model in different enviornments \n",
    "---\n"
   ]
  },
  {
   "cell_type": "markdown",
   "id": "10b87097",
   "metadata": {},
   "source": [
    "## Tools used (add as needed)\n",
    "---\n",
    "### OpenAI Gym\n",
    "- describe\n",
    "### Mario Gym\n",
    "- describe\n",
    "### Nes-Py\n",
    "- describe\n",
    "\n",
    "---\n"
   ]
  },
  {
   "cell_type": "markdown",
   "id": "a2384a31",
   "metadata": {},
   "source": [
    "## Step 1. Set up Super Mario Bros\n",
    "---"
   ]
  },
  {
   "cell_type": "markdown",
   "id": "1f52832b",
   "metadata": {},
   "source": [
    "## Install dependencies and import needed libraries \n",
    "---\n",
    "Install the needed dependencies of the Super Mario Gym and the Nes-py Emulator. Additonally import the needed libraries in order to build the AI"
   ]
  },
  {
   "cell_type": "code",
   "execution_count": 1,
   "id": "cf8323c8",
   "metadata": {
    "scrolled": true
   },
   "outputs": [
    {
     "name": "stdout",
     "output_type": "stream",
     "text": [
      "Requirement already satisfied: gym_super_mario_bros==7.3.0 in c:\\users\\tj\\appdata\\local\\programs\\python\\python39\\lib\\site-packages (7.3.0)Done setting up initial dependencies\n",
      "Requirement already satisfied: nes_py in c:\\users\\tj\\appdata\\local\\programs\\python\\python39\\lib\\site-packages (8.1.8)\n",
      "Requirement already satisfied: gym>=0.17.2 in c:\\users\\tj\\appdata\\local\\programs\\python\\python39\\lib\\site-packages (from nes_py) (0.21.0)\n",
      "Requirement already satisfied: pyglet<=1.5.11,>=1.4.0 in c:\\users\\tj\\appdata\\local\\programs\\python\\python39\\lib\\site-packages (from nes_py) (1.5.11)\n",
      "Requirement already satisfied: tqdm>=4.48.2 in c:\\users\\tj\\appdata\\local\\programs\\python\\python39\\lib\\site-packages (from nes_py) (4.64.0)\n",
      "Requirement already satisfied: numpy>=1.18.5 in c:\\users\\tj\\appdata\\local\\programs\\python\\python39\\lib\\site-packages (from nes_py) (1.22.3)\n",
      "\n"
     ]
    },
    {
     "name": "stderr",
     "output_type": "stream",
     "text": [
      "WARNING: You are using pip version 21.1.3; however, version 22.0.4 is available.\n",
      "You should consider upgrading via the 'c:\\users\\tj\\appdata\\local\\programs\\python\\python39\\python.exe -m pip install --upgrade pip' command.\n"
     ]
    },
    {
     "name": "stdout",
     "output_type": "stream",
     "text": [
      "Requirement already satisfied: cloudpickle>=1.2.0 in c:\\users\\tj\\appdata\\local\\programs\\python\\python39\\lib\\site-packages (from gym>=0.17.2->nes_py) (2.0.0)\n",
      "Requirement already satisfied: colorama in c:\\users\\tj\\appdata\\local\\programs\\python\\python39\\lib\\site-packages (from tqdm>=4.48.2->nes_py) (0.4.4)\n"
     ]
    }
   ],
   "source": [
    "!pip install gym_super_mario_bros==7.3.0 nes_py \n",
    "print(\"Done setting up initial dependencies\")"
   ]
  },
  {
   "cell_type": "code",
   "execution_count": 2,
   "id": "f0c74c51",
   "metadata": {},
   "outputs": [],
   "source": [
    "#import the game gym\n",
    "import gym_super_mario_bros\n",
    "#import the Joypad Wrapper \n",
    "from nes_py.wrappers import JoypadSpace\n",
    "#import the controls (simplified)\n",
    "from gym_super_mario_bros.actions import SIMPLE_MOVEMENT"
   ]
  },
  {
   "cell_type": "markdown",
   "id": "60f4e8a0",
   "metadata": {},
   "source": [
    "It is very important to have simplfied inputs for the AI as more complicated inputs can lead to it having a harder time learning, to show this we can observe the actions Mario can take by viewing the states"
   ]
  },
  {
   "cell_type": "code",
   "execution_count": 3,
   "id": "497dd4eb",
   "metadata": {
    "scrolled": true
   },
   "outputs": [
    {
     "name": "stdout",
     "output_type": "stream",
     "text": [
      "[['NOOP'], ['right'], ['right', 'A'], ['right', 'B'], ['right', 'A', 'B'], ['A'], ['left']]\n"
     ]
    }
   ],
   "source": [
    "print(SIMPLE_MOVEMENT)"
   ]
  },
  {
   "cell_type": "markdown",
   "id": "f00269be",
   "metadata": {},
   "source": [
    "As we can see Mario can only take 7 actions (note: NOOP means no operation/ do nothing)"
   ]
  },
  {
   "cell_type": "code",
   "execution_count": 4,
   "id": "5dddc524",
   "metadata": {},
   "outputs": [],
   "source": [
    "#Setup the game\n",
    "env = gym_super_mario_bros.make('SuperMarioBros-v0') #create the game gym (world 1-1)\n",
    "env = JoypadSpace(env,SIMPLE_MOVEMENT) #simplify the number of inputs\n"
   ]
  },
  {
   "cell_type": "markdown",
   "id": "84d60799",
   "metadata": {},
   "source": [
    "To check how many actions Mario can take we can simply view it "
   ]
  },
  {
   "cell_type": "code",
   "execution_count": 5,
   "id": "33219449",
   "metadata": {
    "scrolled": true
   },
   "outputs": [
    {
     "name": "stdout",
     "output_type": "stream",
     "text": [
      "Discrete(7)\n"
     ]
    }
   ],
   "source": [
    "print(env.action_space)"
   ]
  },
  {
   "cell_type": "markdown",
   "id": "0f3c20f1",
   "metadata": {},
   "source": [
    "## Play the game \n",
    "---\n",
    "- outline\n",
    "    - playing the game to test the enviornment\n",
    "        - congrats python can play the game\n",
    "    - print out the results of each frame \n",
    "    - try it yourself option (change the number of steps to take)\n",
    "    - note how long it takes if the standard 10,000 steps are taken "
   ]
  },
  {
   "cell_type": "code",
   "execution_count": 6,
   "id": "1fcd0bd5",
   "metadata": {
    "scrolled": true
   },
   "outputs": [
    {
     "name": "stdout",
     "output_type": "stream",
     "text": [
      "Frame/step:0 Score:0 done:False\n",
      "Frame/step:1 Score:0 done:False\n",
      "Frame/step:2 Score:0 done:False\n",
      "Frame/step:3 Score:0 done:False\n",
      "Frame/step:4 Score:0 done:False\n",
      "Frame/step:5 Score:1 done:False\n",
      "Frame/step:6 Score:0 done:False\n",
      "Frame/step:7 Score:0 done:False\n",
      "Frame/step:8 Score:1 done:False\n",
      "Frame/step:9 Score:0 done:False\n",
      "Frame/step:10 Score:1 done:False\n",
      "Frame/step:11 Score:0 done:False\n",
      "Frame/step:12 Score:1 done:False\n",
      "Frame/step:13 Score:0 done:False\n",
      "Frame/step:14 Score:1 done:False\n",
      "Frame/step:15 Score:0 done:False\n",
      "Frame/step:16 Score:1 done:False\n",
      "Frame/step:17 Score:1 done:False\n",
      "Frame/step:18 Score:-1 done:False\n",
      "Frame/step:19 Score:0 done:False\n",
      "Frame/step:20 Score:0 done:False\n",
      "Frame/step:21 Score:0 done:False\n",
      "Frame/step:22 Score:-1 done:False\n",
      "Frame/step:23 Score:0 done:False\n",
      "Frame/step:24 Score:0 done:False\n",
      "Frame/step:25 Score:0 done:False\n",
      "Frame/step:26 Score:1 done:False\n",
      "Frame/step:27 Score:0 done:False\n",
      "Frame/step:28 Score:0 done:False\n",
      "Frame/step:29 Score:1 done:False\n",
      "Frame/step:30 Score:1 done:False\n",
      "Frame/step:31 Score:0 done:False\n",
      "Frame/step:32 Score:1 done:False\n",
      "Frame/step:33 Score:0 done:False\n",
      "Frame/step:34 Score:1 done:False\n",
      "Frame/step:35 Score:1 done:False\n",
      "Frame/step:36 Score:1 done:False\n",
      "Frame/step:37 Score:1 done:False\n",
      "Frame/step:38 Score:0 done:False\n",
      "Frame/step:39 Score:1 done:False\n",
      "Frame/step:40 Score:1 done:False\n",
      "Frame/step:41 Score:2 done:False\n",
      "Frame/step:42 Score:1 done:False\n",
      "Frame/step:43 Score:1 done:False\n",
      "Frame/step:44 Score:1 done:False\n",
      "Frame/step:45 Score:2 done:False\n",
      "Frame/step:46 Score:1 done:False\n",
      "Frame/step:47 Score:2 done:False\n",
      "Frame/step:48 Score:1 done:False\n",
      "Frame/step:49 Score:1 done:False\n",
      "Frame/step:50 Score:2 done:False\n",
      "Frame/step:51 Score:1 done:False\n",
      "Frame/step:52 Score:2 done:False\n",
      "Frame/step:53 Score:2 done:False\n",
      "Frame/step:54 Score:1 done:False\n",
      "Frame/step:55 Score:2 done:False\n",
      "Frame/step:56 Score:2 done:False\n",
      "Frame/step:57 Score:2 done:False\n",
      "Frame/step:58 Score:0 done:False\n",
      "Frame/step:59 Score:2 done:False\n",
      "Frame/step:60 Score:2 done:False\n",
      "Frame/step:61 Score:1 done:False\n",
      "Frame/step:62 Score:2 done:False\n",
      "Frame/step:63 Score:2 done:False\n",
      "Frame/step:64 Score:1 done:False\n",
      "Frame/step:65 Score:2 done:False\n",
      "Frame/step:66 Score:2 done:False\n",
      "Frame/step:67 Score:2 done:False\n",
      "Frame/step:68 Score:2 done:False\n",
      "Frame/step:69 Score:2 done:False\n",
      "Frame/step:70 Score:2 done:False\n",
      "Frame/step:71 Score:2 done:False\n",
      "Frame/step:72 Score:2 done:False\n",
      "Frame/step:73 Score:2 done:False\n",
      "Frame/step:74 Score:3 done:False\n",
      "Frame/step:75 Score:2 done:False\n",
      "Frame/step:76 Score:2 done:False\n",
      "Frame/step:77 Score:2 done:False\n",
      "Frame/step:78 Score:1 done:False\n",
      "Frame/step:79 Score:3 done:False\n",
      "Frame/step:80 Score:2 done:False\n",
      "Frame/step:81 Score:2 done:False\n",
      "Frame/step:82 Score:3 done:False\n",
      "Frame/step:83 Score:2 done:False\n",
      "Frame/step:84 Score:3 done:False\n",
      "Frame/step:85 Score:3 done:False\n",
      "Frame/step:86 Score:3 done:False\n",
      "Frame/step:87 Score:2 done:False\n",
      "Frame/step:88 Score:3 done:False\n",
      "Frame/step:89 Score:3 done:False\n",
      "Frame/step:90 Score:3 done:False\n",
      "Frame/step:91 Score:3 done:False\n",
      "Frame/step:92 Score:3 done:False\n",
      "Frame/step:93 Score:3 done:False\n",
      "Frame/step:94 Score:3 done:False\n",
      "Frame/step:95 Score:3 done:False\n",
      "Frame/step:96 Score:3 done:False\n",
      "Frame/step:97 Score:3 done:False\n",
      "Frame/step:98 Score:2 done:False\n",
      "Frame/step:99 Score:3 done:False\n"
     ]
    }
   ],
   "source": [
    "done = True #check if Mario has finished a stage and to restart the session \n",
    "\n",
    "for step in range(100): #should be 100000\n",
    "    score = 0\n",
    "    if done:\n",
    "        #start the game\n",
    "        env.reset()\n",
    "    #get information on each step/frame of the game and also allow mario to take a random action \n",
    "    state,reward,done,info = env.step(env.action_space.sample())\n",
    "    score+=reward\n",
    "    #show the state of each frame /step \n",
    "    \n",
    "    #this will create a vary long output feel free to uncomment the print statement below\n",
    "    print('Frame/step:{} Score:{} done:{}'.format(step,score,done)) \n",
    "\n",
    "    #render the gym (leave commented for faster completion time)\n",
    "    #env.render()\n",
    "env.close()"
   ]
  },
  {
   "cell_type": "markdown",
   "id": "a2766cc3",
   "metadata": {},
   "source": [
    "Since at this stage Mario has not been trained it is likely he will simply be caught on the first pipe until the timer runs out\n",
    "![image](/img/mario_cannot_jump_high.png)"
   ]
  },
  {
   "cell_type": "markdown",
   "id": "614ce123",
   "metadata": {},
   "source": [
    "## Step 2. Pre-processing the enviornment\n",
    "---\n",
    "In this step the game's data needs to be proprocessed in order to eliminate any garbage data.\n",
    "This will involve two steps\n",
    "1. Convert the image to grayscale in order to simply the data even more \n",
    "2. Stack frames together so the agent can read/remember it's previous steps instead of acting on a frame-by-frame basis "
   ]
  },
  {
   "cell_type": "markdown",
   "id": "5aa5ed44",
   "metadata": {},
   "source": [
    "### install and import more dependencies and libaries "
   ]
  },
  {
   "cell_type": "markdown",
   "id": "51566190",
   "metadata": {},
   "source": [
    "### Installing pytorch \n",
    "- This will take a few minutes to install please be patient \n",
    "- explain what pytorch is"
   ]
  },
  {
   "cell_type": "code",
   "execution_count": 28,
   "id": "addbc740",
   "metadata": {
    "scrolled": true
   },
   "outputs": [
    {
     "name": "stdout",
     "output_type": "stream",
     "text": [
      "Looking in indexes: https://pypi.org/simple, https://download.pytorch.org/whl/cu113\n",
      "Requirement already satisfied: torch in c:\\users\\tj\\appdata\\local\\programs\\python\\python39\\lib\\site-packages (1.11.0+cu113)\n",
      "Requirement already satisfied: torchvision in c:\\users\\tj\\appdata\\local\\programs\\python\\python39\\lib\\site-packages (0.12.0)\n",
      "Requirement already satisfied: torchaudio in c:\\users\\tj\\appdata\\local\\programs\\python\\python39\\lib\\site-packages (0.11.0)\n",
      "Requirement already satisfied: typing-extensions in c:\\users\\tj\\appdata\\local\\programs\\python\\python39\\lib\\site-packages (from torch) (3.10.0.2)\n",
      "Requirement already satisfied: pillow!=8.3.*,>=5.3.0 in c:\\users\\tj\\appdata\\local\\programs\\python\\python39\\lib\\site-packages (from torchvision) (9.1.0)\n",
      "Requirement already satisfied: numpy in c:\\users\\tj\\appdata\\local\\programs\\python\\python39\\lib\\site-packages (from torchvision) (1.22.3)\n",
      "Requirement already satisfied: requests in c:\\users\\tj\\appdata\\local\\programs\\python\\python39\\lib\\site-packages (from torchvision) (2.26.0)\n",
      "Requirement already satisfied: certifi>=2017.4.17 in c:\\users\\tj\\appdata\\local\\programs\\python\\python39\\lib\\site-packages (from requests->torchvision) (2021.5.30)\n",
      "Requirement already satisfied: charset-normalizer~=2.0.0 in c:\\users\\tj\\appdata\\local\\programs\\python\\python39\\lib\\site-packages (from requests->torchvision) (2.0.4)\n",
      "Requirement already satisfied: urllib3<1.27,>=1.21.1 in c:\\users\\tj\\appdata\\local\\programs\\python\\python39\\lib\\site-packages (from requests->torchvision) (1.26.6)\n",
      "Requirement already satisfied: idna<4,>=2.5 in c:\\users\\tj\\appdata\\local\\programs\\python\\python39\\lib\\site-packages (from requests->torchvision) (3.2)\n"
     ]
    },
    {
     "name": "stderr",
     "output_type": "stream",
     "text": [
      "WARNING: You are using pip version 21.1.3; however, version 22.0.4 is available.\n",
      "You should consider upgrading via the 'c:\\users\\tj\\appdata\\local\\programs\\python\\python39\\python.exe -m pip install --upgrade pip' command.\n"
     ]
    }
   ],
   "source": [
    "\n",
    "# Install pytorch\n",
    "!pip3 install torch torchvision torchaudio --extra-index-url https://download.pytorch.org/whl/cu113\n",
    "\n"
   ]
  },
  {
   "cell_type": "markdown",
   "id": "2bc3f5e8",
   "metadata": {},
   "source": [
    "\n",
    "### installing additional Reinforcement learning dependencies \n",
    "- This will take a few minutes to install please be patient \n",
    "- expain the need for the PPO "
   ]
  },
  {
   "cell_type": "code",
   "execution_count": 29,
   "id": "63106d14",
   "metadata": {},
   "outputs": [
    {
     "name": "stdout",
     "output_type": "stream",
     "text": [
      "Requirement already satisfied: stable-baselines3[extra] in c:\\users\\tj\\appdata\\local\\programs\\python\\python39\\lib\\site-packages (1.5.0)\n",
      "Requirement already satisfied: pandas in c:\\users\\tj\\appdata\\local\\programs\\python\\python39\\lib\\site-packages (from stable-baselines3[extra]) (1.3.1)\n",
      "Requirement already satisfied: cloudpickle in c:\\users\\tj\\appdata\\local\\programs\\python\\python39\\lib\\site-packages (from stable-baselines3[extra]) (2.0.0)\n",
      "Requirement already satisfied: torch>=1.8.1 in c:\\users\\tj\\appdata\\local\\programs\\python\\python39\\lib\\site-packages (from stable-baselines3[extra]) (1.11.0+cu113)\n",
      "Requirement already satisfied: matplotlib in c:\\users\\tj\\appdata\\local\\programs\\python\\python39\\lib\\site-packages (from stable-baselines3[extra]) (3.5.1)\n",
      "Requirement already satisfied: gym==0.21 in c:\\users\\tj\\appdata\\local\\programs\\python\\python39\\lib\\site-packages (from stable-baselines3[extra]) (0.21.0)\n",
      "Requirement already satisfied: numpy in c:\\users\\tj\\appdata\\local\\programs\\python\\python39\\lib\\site-packages (from stable-baselines3[extra]) (1.22.3)\n",
      "Requirement already satisfied: ale-py~=0.7.4 in c:\\users\\tj\\appdata\\local\\programs\\python\\python39\\lib\\site-packages (from stable-baselines3[extra]) (0.7.5)\n",
      "Requirement already satisfied: psutil in c:\\users\\tj\\appdata\\local\\programs\\python\\python39\\lib\\site-packages (from stable-baselines3[extra]) (5.9.0)\n",
      "Requirement already satisfied: autorom[accept-rom-license]~=0.4.2 in c:\\users\\tj\\appdata\\local\\programs\\python\\python39\\lib\\site-packages (from stable-baselines3[extra]) (0.4.2)\n",
      "Requirement already satisfied: opencv-python in c:\\users\\tj\\appdata\\local\\programs\\python\\python39\\lib\\site-packages (from stable-baselines3[extra]) (4.5.5.64)\n",
      "Requirement already satisfied: pillow in c:\\users\\tj\\appdata\\local\\programs\\python\\python39\\lib\\site-packages (from stable-baselines3[extra]) (9.1.0)\n",
      "Requirement already satisfied: tensorboard>=2.2.0 in c:\\users\\tj\\appdata\\local\\programs\\python\\python39\\lib\\site-packages (from stable-baselines3[extra]) (2.8.0)\n",
      "Requirement already satisfied: importlib-resources in c:\\users\\tj\\appdata\\local\\programs\\python\\python39\\lib\\site-packages (from ale-py~=0.7.4->stable-baselines3[extra]) (5.7.1)\n",
      "Requirement already satisfied: importlib-metadata>=4.10.0 in c:\\users\\tj\\appdata\\local\\programs\\python\\python39\\lib\\site-packages (from ale-py~=0.7.4->stable-baselines3[extra]) (4.11.3)\n",
      "Requirement already satisfied: requests in c:\\users\\tj\\appdata\\local\\programs\\python\\python39\\lib\\site-packages (from autorom[accept-rom-license]~=0.4.2->stable-baselines3[extra]) (2.26.0)\n",
      "Requirement already satisfied: tqdm in c:\\users\\tj\\appdata\\local\\programs\\python\\python39\\lib\\site-packages (from autorom[accept-rom-license]~=0.4.2->stable-baselines3[extra]) (4.64.0)\n",
      "Requirement already satisfied: click in c:\\users\\tj\\appdata\\local\\programs\\python\\python39\\lib\\site-packages (from autorom[accept-rom-license]~=0.4.2->stable-baselines3[extra]) (8.1.3)\n",
      "Requirement already satisfied: AutoROM.accept-rom-license in c:\\users\\tj\\appdata\\local\\programs\\python\\python39\\lib\\site-packages (from autorom[accept-rom-license]~=0.4.2->stable-baselines3[extra]) (0.4.2)\n",
      "Requirement already satisfied: zipp>=0.5 in c:\\users\\tj\\appdata\\local\\programs\\python\\python39\\lib\\site-packages (from importlib-metadata>=4.10.0->ale-py~=0.7.4->stable-baselines3[extra]) (3.8.0)\n",
      "Requirement already satisfied: absl-py>=0.4 in c:\\users\\tj\\appdata\\local\\programs\\python\\python39\\lib\\site-packages (from tensorboard>=2.2.0->stable-baselines3[extra]) (1.0.0)\n",
      "Requirement already satisfied: grpcio>=1.24.3 in c:\\users\\tj\\appdata\\local\\programs\\python\\python39\\lib\\site-packages (from tensorboard>=2.2.0->stable-baselines3[extra]) (1.44.0)\n",
      "Requirement already satisfied: tensorboard-data-server<0.7.0,>=0.6.0 in c:\\users\\tj\\appdata\\local\\programs\\python\\python39\\lib\\site-packages (from tensorboard>=2.2.0->stable-baselines3[extra]) (0.6.1)\n",
      "Requirement already satisfied: markdown>=2.6.8 in c:\\users\\tj\\appdata\\local\\programs\\python\\python39\\lib\\site-packages (from tensorboard>=2.2.0->stable-baselines3[extra]) (3.3.6)\n",
      "Requirement already satisfied: google-auth-oauthlib<0.5,>=0.4.1 in c:\\users\\tj\\appdata\\local\\programs\\python\\python39\\lib\\site-packages (from tensorboard>=2.2.0->stable-baselines3[extra]) (0.4.6)\n",
      "Requirement already satisfied: protobuf>=3.6.0 in c:\\users\\tj\\appdata\\local\\programs\\python\\python39\\lib\\site-packages (from tensorboard>=2.2.0->stable-baselines3[extra]) (3.20.1)\n",
      "Requirement already satisfied: google-auth<3,>=1.6.3 in c:\\users\\tj\\appdata\\local\\programs\\python\\python39\\lib\\site-packages (from tensorboard>=2.2.0->stable-baselines3[extra]) (2.6.6)\n",
      "Requirement already satisfied: setuptools>=41.0.0 in c:\\users\\tj\\appdata\\local\\programs\\python\\python39\\lib\\site-packages (from tensorboard>=2.2.0->stable-baselines3[extra]) (56.0.0)\n",
      "Requirement already satisfied: tensorboard-plugin-wit>=1.6.0 in c:\\users\\tj\\appdata\\local\\programs\\python\\python39\\lib\\site-packages (from tensorboard>=2.2.0->stable-baselines3[extra]) (1.8.1)\n",
      "Requirement already satisfied: werkzeug>=0.11.15 in c:\\users\\tj\\appdata\\local\\programs\\python\\python39\\lib\\site-packages (from tensorboard>=2.2.0->stable-baselines3[extra]) (2.1.2)\n",
      "Requirement already satisfied: wheel>=0.26 in c:\\users\\tj\\appdata\\local\\programs\\python\\python39\\lib\\site-packages (from tensorboard>=2.2.0->stable-baselines3[extra]) (0.37.1)\n",
      "Requirement already satisfied: six in c:\\users\\tj\\appdata\\local\\programs\\python\\python39\\lib\\site-packages (from absl-py>=0.4->tensorboard>=2.2.0->stable-baselines3[extra]) (1.15.0)\n",
      "Requirement already satisfied: rsa<5,>=3.1.4 in c:\\users\\tj\\appdata\\local\\programs\\python\\python39\\lib\\site-packages (from google-auth<3,>=1.6.3->tensorboard>=2.2.0->stable-baselines3[extra]) (4.8)\n",
      "Requirement already satisfied: cachetools<6.0,>=2.0.0 in c:\\users\\tj\\appdata\\local\\programs\\python\\python39\\lib\\site-packages (from google-auth<3,>=1.6.3->tensorboard>=2.2.0->stable-baselines3[extra]) (5.0.0)\n",
      "Requirement already satisfied: pyasn1-modules>=0.2.1 in c:\\users\\tj\\appdata\\local\\programs\\python\\python39\\lib\\site-packages (from google-auth<3,>=1.6.3->tensorboard>=2.2.0->stable-baselines3[extra]) (0.2.8)\n",
      "Requirement already satisfied: requests-oauthlib>=0.7.0 in c:\\users\\tj\\appdata\\local\\programs\\python\\python39\\lib\\site-packages (from google-auth-oauthlib<0.5,>=0.4.1->tensorboard>=2.2.0->stable-baselines3[extra]) (1.3.1)\n",
      "Requirement already satisfied: pyasn1<0.5.0,>=0.4.6 in c:\\users\\tj\\appdata\\local\\programs\\python\\python39\\lib\\site-packages (from pyasn1-modules>=0.2.1->google-auth<3,>=1.6.3->tensorboard>=2.2.0->stable-baselines3[extra]) (0.4.8)\n",
      "Requirement already satisfied: certifi>=2017.4.17 in c:\\users\\tj\\appdata\\local\\programs\\python\\python39\\lib\\site-packages (from requests->autorom[accept-rom-license]~=0.4.2->stable-baselines3[extra]) (2021.5.30)\n",
      "Requirement already satisfied: charset-normalizer~=2.0.0 in c:\\users\\tj\\appdata\\local\\programs\\python\\python39\\lib\\site-packages (from requests->autorom[accept-rom-license]~=0.4.2->stable-baselines3[extra]) (2.0.4)\n",
      "Requirement already satisfied: urllib3<1.27,>=1.21.1 in c:\\users\\tj\\appdata\\local\\programs\\python\\python39\\lib\\site-packages (from requests->autorom[accept-rom-license]~=0.4.2->stable-baselines3[extra]) (1.26.6)\n",
      "Requirement already satisfied: idna<4,>=2.5 in c:\\users\\tj\\appdata\\local\\programs\\python\\python39\\lib\\site-packages (from requests->autorom[accept-rom-license]~=0.4.2->stable-baselines3[extra]) (3.2)\n",
      "Requirement already satisfied: oauthlib>=3.0.0 in c:\\users\\tj\\appdata\\local\\programs\\python\\python39\\lib\\site-packages (from requests-oauthlib>=0.7.0->google-auth-oauthlib<0.5,>=0.4.1->tensorboard>=2.2.0->stable-baselines3[extra]) (3.2.0)\n",
      "Requirement already satisfied: typing-extensions in c:\\users\\tj\\appdata\\local\\programs\\python\\python39\\lib\\site-packages (from torch>=1.8.1->stable-baselines3[extra]) (3.10.0.2)\n",
      "Requirement already satisfied: colorama in c:\\users\\tj\\appdata\\local\\programs\\python\\python39\\lib\\site-packages (from click->autorom[accept-rom-license]~=0.4.2->stable-baselines3[extra]) (0.4.4)\n",
      "Requirement already satisfied: pyparsing>=2.2.1 in c:\\users\\tj\\appdata\\local\\programs\\python\\python39\\lib\\site-packages (from matplotlib->stable-baselines3[extra]) (3.0.6)\n",
      "Requirement already satisfied: fonttools>=4.22.0 in c:\\users\\tj\\appdata\\local\\programs\\python\\python39\\lib\\site-packages (from matplotlib->stable-baselines3[extra]) (4.28.5)\n",
      "Requirement already satisfied: cycler>=0.10 in c:\\users\\tj\\appdata\\local\\programs\\python\\python39\\lib\\site-packages (from matplotlib->stable-baselines3[extra]) (0.11.0)\n",
      "Requirement already satisfied: python-dateutil>=2.7 in c:\\users\\tj\\appdata\\local\\programs\\python\\python39\\lib\\site-packages (from matplotlib->stable-baselines3[extra]) (2.8.2)\n",
      "Requirement already satisfied: packaging>=20.0 in c:\\users\\tj\\appdata\\local\\programs\\python\\python39\\lib\\site-packages (from matplotlib->stable-baselines3[extra]) (21.3)\n",
      "Requirement already satisfied: kiwisolver>=1.0.1 in c:\\users\\tj\\appdata\\local\\programs\\python\\python39\\lib\\site-packages (from matplotlib->stable-baselines3[extra]) (1.3.2)\n",
      "Requirement already satisfied: pytz>=2017.3 in c:\\users\\tj\\appdata\\local\\programs\\python\\python39\\lib\\site-packages (from pandas->stable-baselines3[extra]) (2021.1)\n"
     ]
    },
    {
     "name": "stderr",
     "output_type": "stream",
     "text": [
      "WARNING: You are using pip version 21.1.3; however, version 22.0.4 is available.\n",
      "You should consider upgrading via the 'c:\\users\\tj\\appdata\\local\\programs\\python\\python39\\python.exe -m pip install --upgrade pip' command.\n"
     ]
    }
   ],
   "source": [
    "!pip install stable-baselines3[extra]"
   ]
  },
  {
   "cell_type": "code",
   "execution_count": 30,
   "id": "7552b9b1",
   "metadata": {},
   "outputs": [],
   "source": [
    "# Import Frame Stacker Wrapper and GrayScaling Wrapper\n",
    "from gym.wrappers import GrayScaleObservation\n",
    "# Import Vectorization Wrappers\n",
    "from stable_baselines3.common.vec_env import VecFrameStack, DummyVecEnv\n",
    "# Import Matplotlib to show the impact of frame stacking\n",
    "from matplotlib import pyplot as plt"
   ]
  },
  {
   "cell_type": "code",
   "execution_count": 31,
   "id": "2faebe0d",
   "metadata": {},
   "outputs": [],
   "source": [
    "#1. Create the enviornment \n",
    "env = gym_super_mario_bros.make('SuperMarioBros-v0')\n",
    "# 2. Simplify the controls \n",
    "env = JoypadSpace(env, SIMPLE_MOVEMENT)"
   ]
  },
  {
   "cell_type": "markdown",
   "id": "32407450",
   "metadata": {},
   "source": [
    "### **The importance of simplifying the enveiornment**\n",
    "---\n",
    "As we continue in pre-processing we must convert the enviornment from RGB to grayscale to feed the agent as simple of an enviornment as possible \n",
    "\n",
    "To show the difference compare the enviornment with and without the grayscale conversion"
   ]
  },
  {
   "cell_type": "markdown",
   "id": "cfe517e6",
   "metadata": {},
   "source": [
    "### No Pre-Processing "
   ]
  },
  {
   "cell_type": "code",
   "execution_count": 32,
   "id": "6c75e2d7",
   "metadata": {
    "scrolled": false
   },
   "outputs": [
    {
     "data": {
      "text/plain": [
       "<matplotlib.image.AxesImage at 0x1d11999fee0>"
      ]
     },
     "execution_count": 32,
     "metadata": {},
     "output_type": "execute_result"
    },
    {
     "data": {
      "image/png": "[encoded data removed]",
      "text/plain": [
       "<Figure size 432x288 with 1 Axes>"
      ]
     },
     "metadata": {
      "needs_background": "light"
     },
     "output_type": "display_data"
    }
   ],
   "source": [
    "# Create the base environment (no pre-processing)\n",
    "env_no_pre = gym_super_mario_bros.make('SuperMarioBros-v0')\n",
    "env_no_pre = JoypadSpace(env, SIMPLE_MOVEMENT)\n",
    "env_no_pre_state = env_no_pre.reset()\n",
    "plt.imshow(env_no_pre_state)"
   ]
  },
  {
   "cell_type": "markdown",
   "id": "26a02664",
   "metadata": {},
   "source": [
    "We can inspect the shape to see how much information needs to be proccesed"
   ]
  },
  {
   "cell_type": "code",
   "execution_count": 12,
   "id": "a4e22d4c",
   "metadata": {},
   "outputs": [
    {
     "name": "stdout",
     "output_type": "stream",
     "text": [
      "(240, 256, 3)\n"
     ]
    }
   ],
   "source": [
    "print(env_no_pre_state.shape)"
   ]
  },
  {
   "cell_type": "code",
   "execution_count": 13,
   "id": "52aff49d",
   "metadata": {
    "scrolled": false
   },
   "outputs": [
    {
     "data": {
      "text/plain": [
       "<matplotlib.image.AxesImage at 0x1d113f67190>"
      ]
     },
     "execution_count": 13,
     "metadata": {},
     "output_type": "execute_result"
    },
    {
     "data": {
      "image/png": "[encoded data removed]",
      "text/plain": [
       "<Figure size 432x288 with 1 Axes>"
      ]
     },
     "metadata": {
      "needs_background": "light"
     },
     "output_type": "display_data"
    }
   ],
   "source": [
    "# Create the base environment (with pre processing)\n",
    "env_w_pre = gym_super_mario_bros.make('SuperMarioBros-v0')\n",
    "env_w_pre = JoypadSpace(env, SIMPLE_MOVEMENT)\n",
    "env_w_pre = GrayScaleObservation(env_w_pre, keep_dim=True)\n",
    "env_w_pre_state = env_w_pre.reset()\n",
    "plt.imshow(env_w_pre_state)"
   ]
  },
  {
   "cell_type": "markdown",
   "id": "df1537b7",
   "metadata": {},
   "source": [
    "Let us inpsect the shape of the envionrment now after pre-processing"
   ]
  },
  {
   "cell_type": "code",
   "execution_count": 14,
   "id": "4f4ec777",
   "metadata": {
    "scrolled": true
   },
   "outputs": [
    {
     "name": "stdout",
     "output_type": "stream",
     "text": [
      "(240, 256, 1)\n"
     ]
    }
   ],
   "source": [
    "print(env_w_pre_state.shape)"
   ]
  },
  {
   "cell_type": "markdown",
   "id": "3a3b9da8",
   "metadata": {},
   "source": [
    "In doing so the 3rd element in the shape list went from 3->1 channels thus we have to only process the monochromatic parts\n",
    "of the enviornment"
   ]
  },
  {
   "cell_type": "code",
   "execution_count": 15,
   "id": "717a59ad",
   "metadata": {},
   "outputs": [],
   "source": [
    "#3. Grayscale\n",
    "env = GrayScaleObservation(env, keep_dim=True)\n",
    "#4. Wrap inside the dummy enviornment\n",
    "env = DummyVecEnv([lambda: env])\n",
    "# 5. Stack the frames\n",
    "env = VecFrameStack(env, 4, channels_order='last')"
   ]
  },
  {
   "cell_type": "code",
   "execution_count": 16,
   "id": "2809b4ae",
   "metadata": {},
   "outputs": [],
   "source": [
    "\n",
    "\n",
    "state = env.reset()\n",
    "\n"
   ]
  },
  {
   "cell_type": "code",
   "execution_count": 17,
   "id": "ddfb8a65",
   "metadata": {},
   "outputs": [],
   "source": [
    "state, reward, done, info = env.step([5])"
   ]
  },
  {
   "cell_type": "markdown",
   "id": "1f334fff",
   "metadata": {},
   "source": [
    "In this case it is hard to explain what the stacked frame does, however stacked frames alows the agent to see up to 4 of the previous frames in order to gain a better insight on what to do. When shown it would look like this "
   ]
  },
  {
   "cell_type": "code",
   "execution_count": 18,
   "id": "4ef0058a",
   "metadata": {
    "scrolled": true
   },
   "outputs": [
    {
     "data": {
      "image/png": "[encoded data removed]",
      "text/plain": [
       "<Figure size 1440x1152 with 4 Axes>"
      ]
     },
     "metadata": {
      "needs_background": "light"
     },
     "output_type": "display_data"
    }
   ],
   "source": [
    "\n",
    "#display 4 frames \n",
    "plt.figure(figsize=(20,16))\n",
    "for idx in range(state.shape[3]):\n",
    "    plt.subplot(1,4,idx+1)\n",
    "    plt.imshow(state[0][:,:,idx])\n",
    "plt.show()\n",
    "\n"
   ]
  },
  {
   "cell_type": "markdown",
   "id": "176b6081",
   "metadata": {},
   "source": [
    "The first 2 frames are purple due to the game not advancing past the intial 2 frames, however if we step through "
   ]
  },
  {
   "cell_type": "code",
   "execution_count": 19,
   "id": "b7f2664b",
   "metadata": {
    "scrolled": true
   },
   "outputs": [
    {
     "data": {
      "image/png": "[encoded data removed]",
      "text/plain": [
       "<Figure size 2160x2304 with 4 Axes>"
      ]
     },
     "metadata": {
      "needs_background": "light"
     },
     "output_type": "display_data"
    }
   ],
   "source": [
    "state, reward, done, info = env.step([5]) #run this as many times as you want to see the frames advance \n",
    "plt.figure(figsize=(30,32))\n",
    "for idx in range(state.shape[3]):\n",
    "    plt.subplot(1,4,idx+1)\n",
    "    plt.imshow(state[0][:,:,idx])\n",
    "plt.show()"
   ]
  },
  {
   "cell_type": "markdown",
   "id": "06f9cd8e",
   "metadata": {},
   "source": [
    "### Step 3. Training the Reinforcement Model\n",
    "---\n",
    "This step will be all about training the AI to navigate the enviorntment. This uses reinforcemt learning with Mario\n",
    "as the agent. Mario will be rewarded for for how far right he makes it in the enviornment. The goal of Mario is to maximize his reward.\n",
    "\n",
    "The Reinforcement Alogirithm being used is the PPO (Proximal Policy Optimization) algorithm. \n",
    "\n"
   ]
  },
  {
   "cell_type": "code",
   "execution_count": 38,
   "id": "58f9be3a",
   "metadata": {},
   "outputs": [],
   "source": [
    "# Import os for file path management\n",
    "import os \n",
    "# Import PPO for algos\n",
    "from stable_baselines3 import PPO\n",
    "# Import Base Callback for saving models to prevent massive data loss \n",
    "from stable_baselines3.common.callbacks import BaseCallback\n",
    "import torch\n",
    "\n"
   ]
  },
  {
   "cell_type": "markdown",
   "id": "f1e6ef2e",
   "metadata": {},
   "source": [
    "Callback class - This is so that the AI can save it's progress after a certain amount of steps in order to prevent massive data lost"
   ]
  },
  {
   "cell_type": "code",
   "execution_count": 21,
   "id": "079a6476",
   "metadata": {},
   "outputs": [],
   "source": [
    "\n",
    "\n",
    "class TrainAndLoggingCallback(BaseCallback):\n",
    "\n",
    "    def __init__(self, check_freq, save_path, verbose=1):\n",
    "        super(TrainAndLoggingCallback, self).__init__(verbose)\n",
    "        self.check_freq = check_freq\n",
    "        self.save_path = save_path\n",
    "\n",
    "    def _init_callback(self):\n",
    "        if self.save_path is not None:\n",
    "            os.makedirs(self.save_path, exist_ok=True)\n",
    "\n",
    "    def _on_step(self):\n",
    "        if self.n_calls % self.check_freq == 0:\n",
    "            model_path = os.path.join(self.save_path, 'best_model_{}'.format(self.n_calls))\n",
    "            self.model.save(model_path)\n",
    "\n",
    "        return True\n",
    "\n"
   ]
  },
  {
   "cell_type": "markdown",
   "id": "8d6d523d",
   "metadata": {},
   "source": [
    "Since it is a good idea to save the model as it changes we will create a directory for the model to be stored at "
   ]
  },
  {
   "cell_type": "code",
   "execution_count": 22,
   "id": "21f506ed",
   "metadata": {},
   "outputs": [],
   "source": [
    "\n",
    "\n",
    "CHECKPOINT_DIR = './train/'\n",
    "LOG_DIR = './logs/'\n",
    "\n"
   ]
  },
  {
   "cell_type": "code",
   "execution_count": 41,
   "id": "1417210f",
   "metadata": {},
   "outputs": [
    {
     "data": {
      "text/plain": [
       "False"
      ]
     },
     "execution_count": 41,
     "metadata": {},
     "output_type": "execute_result"
    }
   ],
   "source": [
    "import torch\n",
    "torch.cuda.is_available()\n"
   ]
  },
  {
   "cell_type": "code",
   "execution_count": 34,
   "id": "6f6f5843",
   "metadata": {},
   "outputs": [],
   "source": [
    "\n",
    "\n",
    "# Setup model saving callback\n",
    "callback = TrainAndLoggingCallback(check_freq=10000, save_path=CHECKPOINT_DIR)\n",
    "\n"
   ]
  },
  {
   "cell_type": "code",
   "execution_count": 35,
   "id": "0aeb65ea",
   "metadata": {
    "scrolled": false
   },
   "outputs": [
    {
     "name": "stdout",
     "output_type": "stream",
     "text": [
      "Using cpu device\n",
      "Wrapping the env with a `Monitor` wrapper\n",
      "Wrapping the env in a DummyVecEnv.\n",
      "Wrapping the env in a VecTransposeImage.\n"
     ]
    }
   ],
   "source": [
    "# This is the AI model started\n",
    "model = PPO('CnnPolicy', env, verbose=1, tensorboard_log=LOG_DIR, learning_rate=0.000001, n_steps=512) "
   ]
  },
  {
   "cell_type": "markdown",
   "id": "6b07b320",
   "metadata": {},
   "source": [
    "## training data statistics \n",
    "- explain the relavent and needed statistics that come from training "
   ]
  },
  {
   "cell_type": "markdown",
   "id": "dafd17b9",
   "metadata": {},
   "source": [
    "**This is an extremely long process and will take well over an hour, only run the AI training if you wish to build the model yourself, otherwise continue reading**"
   ]
  },
  {
   "cell_type": "code",
   "execution_count": 25,
   "id": "dac88887",
   "metadata": {},
   "outputs": [
    {
     "name": "stdout",
     "output_type": "stream",
     "text": [
      "Logging to ./logs/PPO_1\n"
     ]
    },
    {
     "name": "stderr",
     "output_type": "stream",
     "text": [
      "c:\\users\\tj\\appdata\\local\\programs\\python\\python39\\lib\\site-packages\\gym_super_mario_bros\\smb_env.py:148: RuntimeWarning: overflow encountered in ubyte_scalars\n",
      "  return (self.ram[0x86] - self.ram[0x071c]) % 256\n"
     ]
    },
    {
     "ename": "KeyboardInterrupt",
     "evalue": "",
     "output_type": "error",
     "traceback": [
      "\u001b[1;31m---------------------------------------------------------------------------\u001b[0m",
      "\u001b[1;31mKeyboardInterrupt\u001b[0m                         Traceback (most recent call last)",
      "Input \u001b[1;32mIn [25]\u001b[0m, in \u001b[0;36m<cell line: 2>\u001b[1;34m()\u001b[0m\n\u001b[0;32m      1\u001b[0m \u001b[38;5;66;03m# Train the AI model, this is where the AI model starts to learn,timesteps is the amount of frames it will be processing\u001b[39;00m\n\u001b[1;32m----> 2\u001b[0m \u001b[43mmodel\u001b[49m\u001b[38;5;241;43m.\u001b[39;49m\u001b[43mlearn\u001b[49m\u001b[43m(\u001b[49m\u001b[43mtotal_timesteps\u001b[49m\u001b[38;5;241;43m=\u001b[39;49m\u001b[38;5;241;43m1000000\u001b[39;49m\u001b[43m,\u001b[49m\u001b[43m \u001b[49m\u001b[43mcallback\u001b[49m\u001b[38;5;241;43m=\u001b[39;49m\u001b[43mcallback\u001b[49m\u001b[43m)\u001b[49m\n",
      "File \u001b[1;32mc:\\users\\tj\\appdata\\local\\programs\\python\\python39\\lib\\site-packages\\stable_baselines3\\ppo\\ppo.py:304\u001b[0m, in \u001b[0;36mPPO.learn\u001b[1;34m(self, total_timesteps, callback, log_interval, eval_env, eval_freq, n_eval_episodes, tb_log_name, eval_log_path, reset_num_timesteps)\u001b[0m\n\u001b[0;32m    291\u001b[0m \u001b[38;5;28;01mdef\u001b[39;00m \u001b[38;5;21mlearn\u001b[39m(\n\u001b[0;32m    292\u001b[0m     \u001b[38;5;28mself\u001b[39m,\n\u001b[0;32m    293\u001b[0m     total_timesteps: \u001b[38;5;28mint\u001b[39m,\n\u001b[1;32m   (...)\u001b[0m\n\u001b[0;32m    301\u001b[0m     reset_num_timesteps: \u001b[38;5;28mbool\u001b[39m \u001b[38;5;241m=\u001b[39m \u001b[38;5;28;01mTrue\u001b[39;00m,\n\u001b[0;32m    302\u001b[0m ) \u001b[38;5;241m-\u001b[39m\u001b[38;5;241m>\u001b[39m \u001b[38;5;124m\"\u001b[39m\u001b[38;5;124mPPO\u001b[39m\u001b[38;5;124m\"\u001b[39m:\n\u001b[1;32m--> 304\u001b[0m     \u001b[38;5;28;01mreturn\u001b[39;00m \u001b[38;5;28;43msuper\u001b[39;49m\u001b[43m(\u001b[49m\u001b[43mPPO\u001b[49m\u001b[43m,\u001b[49m\u001b[43m \u001b[49m\u001b[38;5;28;43mself\u001b[39;49m\u001b[43m)\u001b[49m\u001b[38;5;241;43m.\u001b[39;49m\u001b[43mlearn\u001b[49m\u001b[43m(\u001b[49m\n\u001b[0;32m    305\u001b[0m \u001b[43m        \u001b[49m\u001b[43mtotal_timesteps\u001b[49m\u001b[38;5;241;43m=\u001b[39;49m\u001b[43mtotal_timesteps\u001b[49m\u001b[43m,\u001b[49m\n\u001b[0;32m    306\u001b[0m \u001b[43m        \u001b[49m\u001b[43mcallback\u001b[49m\u001b[38;5;241;43m=\u001b[39;49m\u001b[43mcallback\u001b[49m\u001b[43m,\u001b[49m\n\u001b[0;32m    307\u001b[0m \u001b[43m        \u001b[49m\u001b[43mlog_interval\u001b[49m\u001b[38;5;241;43m=\u001b[39;49m\u001b[43mlog_interval\u001b[49m\u001b[43m,\u001b[49m\n\u001b[0;32m    308\u001b[0m \u001b[43m        \u001b[49m\u001b[43meval_env\u001b[49m\u001b[38;5;241;43m=\u001b[39;49m\u001b[43meval_env\u001b[49m\u001b[43m,\u001b[49m\n\u001b[0;32m    309\u001b[0m \u001b[43m        \u001b[49m\u001b[43meval_freq\u001b[49m\u001b[38;5;241;43m=\u001b[39;49m\u001b[43meval_freq\u001b[49m\u001b[43m,\u001b[49m\n\u001b[0;32m    310\u001b[0m \u001b[43m        \u001b[49m\u001b[43mn_eval_episodes\u001b[49m\u001b[38;5;241;43m=\u001b[39;49m\u001b[43mn_eval_episodes\u001b[49m\u001b[43m,\u001b[49m\n\u001b[0;32m    311\u001b[0m \u001b[43m        \u001b[49m\u001b[43mtb_log_name\u001b[49m\u001b[38;5;241;43m=\u001b[39;49m\u001b[43mtb_log_name\u001b[49m\u001b[43m,\u001b[49m\n\u001b[0;32m    312\u001b[0m \u001b[43m        \u001b[49m\u001b[43meval_log_path\u001b[49m\u001b[38;5;241;43m=\u001b[39;49m\u001b[43meval_log_path\u001b[49m\u001b[43m,\u001b[49m\n\u001b[0;32m    313\u001b[0m \u001b[43m        \u001b[49m\u001b[43mreset_num_timesteps\u001b[49m\u001b[38;5;241;43m=\u001b[39;49m\u001b[43mreset_num_timesteps\u001b[49m\u001b[43m,\u001b[49m\n\u001b[0;32m    314\u001b[0m \u001b[43m    \u001b[49m\u001b[43m)\u001b[49m\n",
      "File \u001b[1;32mc:\\users\\tj\\appdata\\local\\programs\\python\\python39\\lib\\site-packages\\stable_baselines3\\common\\on_policy_algorithm.py:250\u001b[0m, in \u001b[0;36mOnPolicyAlgorithm.learn\u001b[1;34m(self, total_timesteps, callback, log_interval, eval_env, eval_freq, n_eval_episodes, tb_log_name, eval_log_path, reset_num_timesteps)\u001b[0m\n\u001b[0;32m    246\u001b[0m callback\u001b[38;5;241m.\u001b[39mon_training_start(\u001b[38;5;28mlocals\u001b[39m(), \u001b[38;5;28mglobals\u001b[39m())\n\u001b[0;32m    248\u001b[0m \u001b[38;5;28;01mwhile\u001b[39;00m \u001b[38;5;28mself\u001b[39m\u001b[38;5;241m.\u001b[39mnum_timesteps \u001b[38;5;241m<\u001b[39m total_timesteps:\n\u001b[1;32m--> 250\u001b[0m     continue_training \u001b[38;5;241m=\u001b[39m \u001b[38;5;28;43mself\u001b[39;49m\u001b[38;5;241;43m.\u001b[39;49m\u001b[43mcollect_rollouts\u001b[49m\u001b[43m(\u001b[49m\u001b[38;5;28;43mself\u001b[39;49m\u001b[38;5;241;43m.\u001b[39;49m\u001b[43menv\u001b[49m\u001b[43m,\u001b[49m\u001b[43m \u001b[49m\u001b[43mcallback\u001b[49m\u001b[43m,\u001b[49m\u001b[43m \u001b[49m\u001b[38;5;28;43mself\u001b[39;49m\u001b[38;5;241;43m.\u001b[39;49m\u001b[43mrollout_buffer\u001b[49m\u001b[43m,\u001b[49m\u001b[43m \u001b[49m\u001b[43mn_rollout_steps\u001b[49m\u001b[38;5;241;43m=\u001b[39;49m\u001b[38;5;28;43mself\u001b[39;49m\u001b[38;5;241;43m.\u001b[39;49m\u001b[43mn_steps\u001b[49m\u001b[43m)\u001b[49m\n\u001b[0;32m    252\u001b[0m     \u001b[38;5;28;01mif\u001b[39;00m continue_training \u001b[38;5;129;01mis\u001b[39;00m \u001b[38;5;28;01mFalse\u001b[39;00m:\n\u001b[0;32m    253\u001b[0m         \u001b[38;5;28;01mbreak\u001b[39;00m\n",
      "File \u001b[1;32mc:\\users\\tj\\appdata\\local\\programs\\python\\python39\\lib\\site-packages\\stable_baselines3\\common\\on_policy_algorithm.py:169\u001b[0m, in \u001b[0;36mOnPolicyAlgorithm.collect_rollouts\u001b[1;34m(self, env, callback, rollout_buffer, n_rollout_steps)\u001b[0m\n\u001b[0;32m    166\u001b[0m \u001b[38;5;28;01mwith\u001b[39;00m th\u001b[38;5;241m.\u001b[39mno_grad():\n\u001b[0;32m    167\u001b[0m     \u001b[38;5;66;03m# Convert to pytorch tensor or to TensorDict\u001b[39;00m\n\u001b[0;32m    168\u001b[0m     obs_tensor \u001b[38;5;241m=\u001b[39m obs_as_tensor(\u001b[38;5;28mself\u001b[39m\u001b[38;5;241m.\u001b[39m_last_obs, \u001b[38;5;28mself\u001b[39m\u001b[38;5;241m.\u001b[39mdevice)\n\u001b[1;32m--> 169\u001b[0m     actions, values, log_probs \u001b[38;5;241m=\u001b[39m \u001b[38;5;28;43mself\u001b[39;49m\u001b[38;5;241;43m.\u001b[39;49m\u001b[43mpolicy\u001b[49m\u001b[43m(\u001b[49m\u001b[43mobs_tensor\u001b[49m\u001b[43m)\u001b[49m\n\u001b[0;32m    170\u001b[0m actions \u001b[38;5;241m=\u001b[39m actions\u001b[38;5;241m.\u001b[39mcpu()\u001b[38;5;241m.\u001b[39mnumpy()\n\u001b[0;32m    172\u001b[0m \u001b[38;5;66;03m# Rescale and perform action\u001b[39;00m\n",
      "File \u001b[1;32mc:\\users\\tj\\appdata\\local\\programs\\python\\python39\\lib\\site-packages\\torch\\nn\\modules\\module.py:1110\u001b[0m, in \u001b[0;36mModule._call_impl\u001b[1;34m(self, *input, **kwargs)\u001b[0m\n\u001b[0;32m   1106\u001b[0m \u001b[38;5;66;03m# If we don't have any hooks, we want to skip the rest of the logic in\u001b[39;00m\n\u001b[0;32m   1107\u001b[0m \u001b[38;5;66;03m# this function, and just call forward.\u001b[39;00m\n\u001b[0;32m   1108\u001b[0m \u001b[38;5;28;01mif\u001b[39;00m \u001b[38;5;129;01mnot\u001b[39;00m (\u001b[38;5;28mself\u001b[39m\u001b[38;5;241m.\u001b[39m_backward_hooks \u001b[38;5;129;01mor\u001b[39;00m \u001b[38;5;28mself\u001b[39m\u001b[38;5;241m.\u001b[39m_forward_hooks \u001b[38;5;129;01mor\u001b[39;00m \u001b[38;5;28mself\u001b[39m\u001b[38;5;241m.\u001b[39m_forward_pre_hooks \u001b[38;5;129;01mor\u001b[39;00m _global_backward_hooks\n\u001b[0;32m   1109\u001b[0m         \u001b[38;5;129;01mor\u001b[39;00m _global_forward_hooks \u001b[38;5;129;01mor\u001b[39;00m _global_forward_pre_hooks):\n\u001b[1;32m-> 1110\u001b[0m     \u001b[38;5;28;01mreturn\u001b[39;00m forward_call(\u001b[38;5;241m*\u001b[39m\u001b[38;5;28minput\u001b[39m, \u001b[38;5;241m*\u001b[39m\u001b[38;5;241m*\u001b[39mkwargs)\n\u001b[0;32m   1111\u001b[0m \u001b[38;5;66;03m# Do not call functions when jit is used\u001b[39;00m\n\u001b[0;32m   1112\u001b[0m full_backward_hooks, non_full_backward_hooks \u001b[38;5;241m=\u001b[39m [], []\n",
      "File \u001b[1;32mc:\\users\\tj\\appdata\\local\\programs\\python\\python39\\lib\\site-packages\\stable_baselines3\\common\\policies.py:588\u001b[0m, in \u001b[0;36mActorCriticPolicy.forward\u001b[1;34m(self, obs, deterministic)\u001b[0m\n\u001b[0;32m    580\u001b[0m \u001b[38;5;124;03m\"\"\"\u001b[39;00m\n\u001b[0;32m    581\u001b[0m \u001b[38;5;124;03mForward pass in all the networks (actor and critic)\u001b[39;00m\n\u001b[0;32m    582\u001b[0m \n\u001b[1;32m   (...)\u001b[0m\n\u001b[0;32m    585\u001b[0m \u001b[38;5;124;03m:return: action, value and log probability of the action\u001b[39;00m\n\u001b[0;32m    586\u001b[0m \u001b[38;5;124;03m\"\"\"\u001b[39;00m\n\u001b[0;32m    587\u001b[0m \u001b[38;5;66;03m# Preprocess the observation if needed\u001b[39;00m\n\u001b[1;32m--> 588\u001b[0m features \u001b[38;5;241m=\u001b[39m \u001b[38;5;28;43mself\u001b[39;49m\u001b[38;5;241;43m.\u001b[39;49m\u001b[43mextract_features\u001b[49m\u001b[43m(\u001b[49m\u001b[43mobs\u001b[49m\u001b[43m)\u001b[49m\n\u001b[0;32m    589\u001b[0m latent_pi, latent_vf \u001b[38;5;241m=\u001b[39m \u001b[38;5;28mself\u001b[39m\u001b[38;5;241m.\u001b[39mmlp_extractor(features)\n\u001b[0;32m    590\u001b[0m \u001b[38;5;66;03m# Evaluate the values for the given observations\u001b[39;00m\n",
      "File \u001b[1;32mc:\\users\\tj\\appdata\\local\\programs\\python\\python39\\lib\\site-packages\\stable_baselines3\\common\\policies.py:129\u001b[0m, in \u001b[0;36mBaseModel.extract_features\u001b[1;34m(self, obs)\u001b[0m\n\u001b[0;32m    127\u001b[0m \u001b[38;5;28;01massert\u001b[39;00m \u001b[38;5;28mself\u001b[39m\u001b[38;5;241m.\u001b[39mfeatures_extractor \u001b[38;5;129;01mis\u001b[39;00m \u001b[38;5;129;01mnot\u001b[39;00m \u001b[38;5;28;01mNone\u001b[39;00m, \u001b[38;5;124m\"\u001b[39m\u001b[38;5;124mNo features extractor was set\u001b[39m\u001b[38;5;124m\"\u001b[39m\n\u001b[0;32m    128\u001b[0m preprocessed_obs \u001b[38;5;241m=\u001b[39m preprocess_obs(obs, \u001b[38;5;28mself\u001b[39m\u001b[38;5;241m.\u001b[39mobservation_space, normalize_images\u001b[38;5;241m=\u001b[39m\u001b[38;5;28mself\u001b[39m\u001b[38;5;241m.\u001b[39mnormalize_images)\n\u001b[1;32m--> 129\u001b[0m \u001b[38;5;28;01mreturn\u001b[39;00m \u001b[38;5;28;43mself\u001b[39;49m\u001b[38;5;241;43m.\u001b[39;49m\u001b[43mfeatures_extractor\u001b[49m\u001b[43m(\u001b[49m\u001b[43mpreprocessed_obs\u001b[49m\u001b[43m)\u001b[49m\n",
      "File \u001b[1;32mc:\\users\\tj\\appdata\\local\\programs\\python\\python39\\lib\\site-packages\\torch\\nn\\modules\\module.py:1110\u001b[0m, in \u001b[0;36mModule._call_impl\u001b[1;34m(self, *input, **kwargs)\u001b[0m\n\u001b[0;32m   1106\u001b[0m \u001b[38;5;66;03m# If we don't have any hooks, we want to skip the rest of the logic in\u001b[39;00m\n\u001b[0;32m   1107\u001b[0m \u001b[38;5;66;03m# this function, and just call forward.\u001b[39;00m\n\u001b[0;32m   1108\u001b[0m \u001b[38;5;28;01mif\u001b[39;00m \u001b[38;5;129;01mnot\u001b[39;00m (\u001b[38;5;28mself\u001b[39m\u001b[38;5;241m.\u001b[39m_backward_hooks \u001b[38;5;129;01mor\u001b[39;00m \u001b[38;5;28mself\u001b[39m\u001b[38;5;241m.\u001b[39m_forward_hooks \u001b[38;5;129;01mor\u001b[39;00m \u001b[38;5;28mself\u001b[39m\u001b[38;5;241m.\u001b[39m_forward_pre_hooks \u001b[38;5;129;01mor\u001b[39;00m _global_backward_hooks\n\u001b[0;32m   1109\u001b[0m         \u001b[38;5;129;01mor\u001b[39;00m _global_forward_hooks \u001b[38;5;129;01mor\u001b[39;00m _global_forward_pre_hooks):\n\u001b[1;32m-> 1110\u001b[0m     \u001b[38;5;28;01mreturn\u001b[39;00m forward_call(\u001b[38;5;241m*\u001b[39m\u001b[38;5;28minput\u001b[39m, \u001b[38;5;241m*\u001b[39m\u001b[38;5;241m*\u001b[39mkwargs)\n\u001b[0;32m   1111\u001b[0m \u001b[38;5;66;03m# Do not call functions when jit is used\u001b[39;00m\n\u001b[0;32m   1112\u001b[0m full_backward_hooks, non_full_backward_hooks \u001b[38;5;241m=\u001b[39m [], []\n",
      "File \u001b[1;32mc:\\users\\tj\\appdata\\local\\programs\\python\\python39\\lib\\site-packages\\stable_baselines3\\common\\torch_layers.py:93\u001b[0m, in \u001b[0;36mNatureCNN.forward\u001b[1;34m(self, observations)\u001b[0m\n\u001b[0;32m     92\u001b[0m \u001b[38;5;28;01mdef\u001b[39;00m \u001b[38;5;21mforward\u001b[39m(\u001b[38;5;28mself\u001b[39m, observations: th\u001b[38;5;241m.\u001b[39mTensor) \u001b[38;5;241m-\u001b[39m\u001b[38;5;241m>\u001b[39m th\u001b[38;5;241m.\u001b[39mTensor:\n\u001b[1;32m---> 93\u001b[0m     \u001b[38;5;28;01mreturn\u001b[39;00m \u001b[38;5;28mself\u001b[39m\u001b[38;5;241m.\u001b[39mlinear(\u001b[38;5;28;43mself\u001b[39;49m\u001b[38;5;241;43m.\u001b[39;49m\u001b[43mcnn\u001b[49m\u001b[43m(\u001b[49m\u001b[43mobservations\u001b[49m\u001b[43m)\u001b[49m)\n",
      "File \u001b[1;32mc:\\users\\tj\\appdata\\local\\programs\\python\\python39\\lib\\site-packages\\torch\\nn\\modules\\module.py:1110\u001b[0m, in \u001b[0;36mModule._call_impl\u001b[1;34m(self, *input, **kwargs)\u001b[0m\n\u001b[0;32m   1106\u001b[0m \u001b[38;5;66;03m# If we don't have any hooks, we want to skip the rest of the logic in\u001b[39;00m\n\u001b[0;32m   1107\u001b[0m \u001b[38;5;66;03m# this function, and just call forward.\u001b[39;00m\n\u001b[0;32m   1108\u001b[0m \u001b[38;5;28;01mif\u001b[39;00m \u001b[38;5;129;01mnot\u001b[39;00m (\u001b[38;5;28mself\u001b[39m\u001b[38;5;241m.\u001b[39m_backward_hooks \u001b[38;5;129;01mor\u001b[39;00m \u001b[38;5;28mself\u001b[39m\u001b[38;5;241m.\u001b[39m_forward_hooks \u001b[38;5;129;01mor\u001b[39;00m \u001b[38;5;28mself\u001b[39m\u001b[38;5;241m.\u001b[39m_forward_pre_hooks \u001b[38;5;129;01mor\u001b[39;00m _global_backward_hooks\n\u001b[0;32m   1109\u001b[0m         \u001b[38;5;129;01mor\u001b[39;00m _global_forward_hooks \u001b[38;5;129;01mor\u001b[39;00m _global_forward_pre_hooks):\n\u001b[1;32m-> 1110\u001b[0m     \u001b[38;5;28;01mreturn\u001b[39;00m forward_call(\u001b[38;5;241m*\u001b[39m\u001b[38;5;28minput\u001b[39m, \u001b[38;5;241m*\u001b[39m\u001b[38;5;241m*\u001b[39mkwargs)\n\u001b[0;32m   1111\u001b[0m \u001b[38;5;66;03m# Do not call functions when jit is used\u001b[39;00m\n\u001b[0;32m   1112\u001b[0m full_backward_hooks, non_full_backward_hooks \u001b[38;5;241m=\u001b[39m [], []\n",
      "File \u001b[1;32mc:\\users\\tj\\appdata\\local\\programs\\python\\python39\\lib\\site-packages\\torch\\nn\\modules\\container.py:141\u001b[0m, in \u001b[0;36mSequential.forward\u001b[1;34m(self, input)\u001b[0m\n\u001b[0;32m    139\u001b[0m \u001b[38;5;28;01mdef\u001b[39;00m \u001b[38;5;21mforward\u001b[39m(\u001b[38;5;28mself\u001b[39m, \u001b[38;5;28minput\u001b[39m):\n\u001b[0;32m    140\u001b[0m     \u001b[38;5;28;01mfor\u001b[39;00m module \u001b[38;5;129;01min\u001b[39;00m \u001b[38;5;28mself\u001b[39m:\n\u001b[1;32m--> 141\u001b[0m         \u001b[38;5;28minput\u001b[39m \u001b[38;5;241m=\u001b[39m \u001b[43mmodule\u001b[49m\u001b[43m(\u001b[49m\u001b[38;5;28;43minput\u001b[39;49m\u001b[43m)\u001b[49m\n\u001b[0;32m    142\u001b[0m     \u001b[38;5;28;01mreturn\u001b[39;00m \u001b[38;5;28minput\u001b[39m\n",
      "File \u001b[1;32mc:\\users\\tj\\appdata\\local\\programs\\python\\python39\\lib\\site-packages\\torch\\nn\\modules\\module.py:1110\u001b[0m, in \u001b[0;36mModule._call_impl\u001b[1;34m(self, *input, **kwargs)\u001b[0m\n\u001b[0;32m   1106\u001b[0m \u001b[38;5;66;03m# If we don't have any hooks, we want to skip the rest of the logic in\u001b[39;00m\n\u001b[0;32m   1107\u001b[0m \u001b[38;5;66;03m# this function, and just call forward.\u001b[39;00m\n\u001b[0;32m   1108\u001b[0m \u001b[38;5;28;01mif\u001b[39;00m \u001b[38;5;129;01mnot\u001b[39;00m (\u001b[38;5;28mself\u001b[39m\u001b[38;5;241m.\u001b[39m_backward_hooks \u001b[38;5;129;01mor\u001b[39;00m \u001b[38;5;28mself\u001b[39m\u001b[38;5;241m.\u001b[39m_forward_hooks \u001b[38;5;129;01mor\u001b[39;00m \u001b[38;5;28mself\u001b[39m\u001b[38;5;241m.\u001b[39m_forward_pre_hooks \u001b[38;5;129;01mor\u001b[39;00m _global_backward_hooks\n\u001b[0;32m   1109\u001b[0m         \u001b[38;5;129;01mor\u001b[39;00m _global_forward_hooks \u001b[38;5;129;01mor\u001b[39;00m _global_forward_pre_hooks):\n\u001b[1;32m-> 1110\u001b[0m     \u001b[38;5;28;01mreturn\u001b[39;00m forward_call(\u001b[38;5;241m*\u001b[39m\u001b[38;5;28minput\u001b[39m, \u001b[38;5;241m*\u001b[39m\u001b[38;5;241m*\u001b[39mkwargs)\n\u001b[0;32m   1111\u001b[0m \u001b[38;5;66;03m# Do not call functions when jit is used\u001b[39;00m\n\u001b[0;32m   1112\u001b[0m full_backward_hooks, non_full_backward_hooks \u001b[38;5;241m=\u001b[39m [], []\n",
      "File \u001b[1;32mc:\\users\\tj\\appdata\\local\\programs\\python\\python39\\lib\\site-packages\\torch\\nn\\modules\\conv.py:447\u001b[0m, in \u001b[0;36mConv2d.forward\u001b[1;34m(self, input)\u001b[0m\n\u001b[0;32m    446\u001b[0m \u001b[38;5;28;01mdef\u001b[39;00m \u001b[38;5;21mforward\u001b[39m(\u001b[38;5;28mself\u001b[39m, \u001b[38;5;28minput\u001b[39m: Tensor) \u001b[38;5;241m-\u001b[39m\u001b[38;5;241m>\u001b[39m Tensor:\n\u001b[1;32m--> 447\u001b[0m     \u001b[38;5;28;01mreturn\u001b[39;00m \u001b[38;5;28;43mself\u001b[39;49m\u001b[38;5;241;43m.\u001b[39;49m\u001b[43m_conv_forward\u001b[49m\u001b[43m(\u001b[49m\u001b[38;5;28;43minput\u001b[39;49m\u001b[43m,\u001b[49m\u001b[43m \u001b[49m\u001b[38;5;28;43mself\u001b[39;49m\u001b[38;5;241;43m.\u001b[39;49m\u001b[43mweight\u001b[49m\u001b[43m,\u001b[49m\u001b[43m \u001b[49m\u001b[38;5;28;43mself\u001b[39;49m\u001b[38;5;241;43m.\u001b[39;49m\u001b[43mbias\u001b[49m\u001b[43m)\u001b[49m\n",
      "File \u001b[1;32mc:\\users\\tj\\appdata\\local\\programs\\python\\python39\\lib\\site-packages\\torch\\nn\\modules\\conv.py:443\u001b[0m, in \u001b[0;36mConv2d._conv_forward\u001b[1;34m(self, input, weight, bias)\u001b[0m\n\u001b[0;32m    439\u001b[0m \u001b[38;5;28;01mif\u001b[39;00m \u001b[38;5;28mself\u001b[39m\u001b[38;5;241m.\u001b[39mpadding_mode \u001b[38;5;241m!=\u001b[39m \u001b[38;5;124m'\u001b[39m\u001b[38;5;124mzeros\u001b[39m\u001b[38;5;124m'\u001b[39m:\n\u001b[0;32m    440\u001b[0m     \u001b[38;5;28;01mreturn\u001b[39;00m F\u001b[38;5;241m.\u001b[39mconv2d(F\u001b[38;5;241m.\u001b[39mpad(\u001b[38;5;28minput\u001b[39m, \u001b[38;5;28mself\u001b[39m\u001b[38;5;241m.\u001b[39m_reversed_padding_repeated_twice, mode\u001b[38;5;241m=\u001b[39m\u001b[38;5;28mself\u001b[39m\u001b[38;5;241m.\u001b[39mpadding_mode),\n\u001b[0;32m    441\u001b[0m                     weight, bias, \u001b[38;5;28mself\u001b[39m\u001b[38;5;241m.\u001b[39mstride,\n\u001b[0;32m    442\u001b[0m                     _pair(\u001b[38;5;241m0\u001b[39m), \u001b[38;5;28mself\u001b[39m\u001b[38;5;241m.\u001b[39mdilation, \u001b[38;5;28mself\u001b[39m\u001b[38;5;241m.\u001b[39mgroups)\n\u001b[1;32m--> 443\u001b[0m \u001b[38;5;28;01mreturn\u001b[39;00m \u001b[43mF\u001b[49m\u001b[38;5;241;43m.\u001b[39;49m\u001b[43mconv2d\u001b[49m\u001b[43m(\u001b[49m\u001b[38;5;28;43minput\u001b[39;49m\u001b[43m,\u001b[49m\u001b[43m \u001b[49m\u001b[43mweight\u001b[49m\u001b[43m,\u001b[49m\u001b[43m \u001b[49m\u001b[43mbias\u001b[49m\u001b[43m,\u001b[49m\u001b[43m \u001b[49m\u001b[38;5;28;43mself\u001b[39;49m\u001b[38;5;241;43m.\u001b[39;49m\u001b[43mstride\u001b[49m\u001b[43m,\u001b[49m\n\u001b[0;32m    444\u001b[0m \u001b[43m                \u001b[49m\u001b[38;5;28;43mself\u001b[39;49m\u001b[38;5;241;43m.\u001b[39;49m\u001b[43mpadding\u001b[49m\u001b[43m,\u001b[49m\u001b[43m \u001b[49m\u001b[38;5;28;43mself\u001b[39;49m\u001b[38;5;241;43m.\u001b[39;49m\u001b[43mdilation\u001b[49m\u001b[43m,\u001b[49m\u001b[43m \u001b[49m\u001b[38;5;28;43mself\u001b[39;49m\u001b[38;5;241;43m.\u001b[39;49m\u001b[43mgroups\u001b[49m\u001b[43m)\u001b[49m\n",
      "\u001b[1;31mKeyboardInterrupt\u001b[0m: "
     ]
    }
   ],
   "source": [
    "# Train the AI model, this is where the AI model starts to learn,timesteps is the amount of frames it will be processing\n",
    "model.learn(total_timesteps=1000000, callback=callback)"
   ]
  },
  {
   "cell_type": "markdown",
   "id": "2485ec00",
   "metadata": {},
   "source": [
    "## Notes on what to include\n",
    "- view tensorflow statistics as part of the conclusion \n",
    "- include a results section with the model at different parts of training "
   ]
  },
  {
   "cell_type": "markdown",
   "id": "147c9ab6",
   "metadata": {},
   "source": [
    "### Sources: \n",
    "- “Gym-super-mario-bros,” PyPI. [Online]. Available: https://pypi.org/project/gym-super-mario-bros/. [Accessed: 03-May-2022]. \n",
    "- J. Schulman, “Proximal policy optimization,” OpenAI, 02-Sep-2020. [Online]. Available: https://openai.com/blog/openai-baselines-ppo/. [Accessed: 04-May-2022]. "
   ]
  },
  {
   "cell_type": "code",
   "execution_count": null,
   "id": "e5678b31",
   "metadata": {},
   "outputs": [],
   "source": []
  }
 ],
 "metadata": {
  "kernelspec": {
   "display_name": "Python 3 (ipykernel)",
   "language": "python",
   "name": "python3"
  },
  "language_info": {
   "codemirror_mode": {
    "name": "ipython",
    "version": 3
   },
   "file_extension": ".py",
   "mimetype": "text/x-python",
   "name": "python",
   "nbconvert_exporter": "python",
   "pygments_lexer": "ipython3",
   "version": "3.9.6"
  }
 },
 "nbformat": 4,
 "nbformat_minor": 5
}
