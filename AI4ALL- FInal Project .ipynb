{
 "cells": [
  {
   "cell_type": "markdown",
   "id": "af9e6c99",
   "metadata": {},
   "source": [
    "## Major steps \n",
    "1) Set up a Super Mario Bros game Enviornment \n",
    "2) Preocess the game for Reinforcement Learning \n",
    "3) Train the model \n",
    "4) Save and load the trained model in different enviornments "
   ]
  },
  {
   "cell_type": "markdown",
   "id": "3b1c6ab3",
   "metadata": {},
   "source": [
    "## Tools used (add as needed)\n",
    "### OpenAI Gym\n",
    "- describe\n",
    "### Mario Gym\n",
    "- describe\n",
    "### Nes-Py\n"
   ]
  },
  {
   "cell_type": "markdown",
   "id": "694cd1b3",
   "metadata": {},
   "source": [
    "## Step 1. Set up Super Mario Bros"
   ]
  },
  {
   "cell_type": "markdown",
   "id": "38de1241",
   "metadata": {},
   "source": [
    "### Install dependencies and import needed libraries \n",
    "Install the needed dependencies of the Super Mario Gym and the Nes-py Emulator. Additonally import the needed libraries in order to build the AI"
   ]
  },
  {
   "cell_type": "code",
   "execution_count": 1,
   "id": "6eee8d93",
   "metadata": {
    "scrolled": true
   },
   "outputs": [
    {
     "name": "stdout",
     "output_type": "stream",
     "text": [
      "Requirement already satisfied: gym_super_mario_bros==7.3.0 in c:\\users\\tj\\appdata\\local\\programs\\python\\python39\\lib\\site-packages (7.3.0)\n",
      "Requirement already satisfied: nes_py in c:\\users\\tj\\appdata\\local\\programs\\python\\python39\\lib\\site-packages (8.1.8)\n",
      "Requirement already satisfied: numpy>=1.18.5 in c:\\users\\tj\\appdata\\local\\programs\\python\\python39\\lib\\site-packages (from nes_py) (1.22.3)\n",
      "Requirement already satisfied: pyglet<=1.5.11,>=1.4.0 in c:\\users\\tj\\appdata\\local\\programs\\python\\python39\\lib\\site-packages (from nes_py) (1.5.11)\n",
      "Requirement already satisfied: gym>=0.17.2 in c:\\users\\tj\\appdata\\local\\programs\\python\\python39\\lib\\site-packages (from nes_py) (0.23.1)\n",
      "Requirement already satisfied: tqdm>=4.48.2 in c:\\users\\tj\\appdata\\local\\programs\\python\\python39\\lib\\site-packages (from nes_py) (4.64.0)\n",
      "Requirement already satisfied: gym-notices>=0.0.4 in c:\\users\\tj\\appdata\\local\\programs\\python\\python39\\lib\\site-packages (from gym>=0.17.2->nes_py) (0.0.6)\n",
      "Requirement already satisfied: importlib-metadata>=4.10.0 in c:\\users\\tj\\appdata\\local\\programs\\python\\python39\\lib\\site-packages (from gym>=0.17.2->nes_py) (4.11.3)\n",
      "Requirement already satisfied: cloudpickle>=1.2.0 in c:\\users\\tj\\appdata\\local\\programs\\python\\python39\\lib\\site-packages (from gym>=0.17.2->nes_py) (2.0.0)\n",
      "Requirement already satisfied: zipp>=0.5 in c:\\users\\tj\\appdata\\local\\programs\\python\\python39\\lib\\site-packages (from importlib-metadata>=4.10.0->gym>=0.17.2->nes_py) (3.8.0)\n",
      "Requirement already satisfied: colorama in c:\\users\\tj\\appdata\\local\\programs\\python\\python39\\lib\\site-packages (from tqdm>=4.48.2->nes_py) (0.4.4)\n",
      "Done setting up initial dependencies\n"
     ]
    },
    {
     "name": "stderr",
     "output_type": "stream",
     "text": [
      "WARNING: You are using pip version 21.1.3; however, version 22.0.4 is available.\n",
      "You should consider upgrading via the 'c:\\users\\tj\\appdata\\local\\programs\\python\\python39\\python.exe -m pip install --upgrade pip' command.\n"
     ]
    }
   ],
   "source": [
    "!pip install gym_super_mario_bros==7.3.0 nes_py \n",
    "print(\"Done setting up initial dependencies\")"
   ]
  },
  {
   "cell_type": "code",
   "execution_count": 2,
   "id": "760b84c8",
   "metadata": {},
   "outputs": [],
   "source": [
    "#import the game gym\n",
    "import gym_super_mario_bros\n",
    "#import the Joypad Wrapper \n",
    "from nes_py.wrappers import JoypadSpace\n",
    "#import the controls (simplified)\n",
    "from gym_super_mario_bros.actions import SIMPLE_MOVEMENT"
   ]
  },
  {
   "cell_type": "markdown",
   "id": "f1d8c71c",
   "metadata": {},
   "source": [
    "It is very important to have simplfied inputs for the AI as more complicated inputs can lead to it having a harder time learning, to show this we can observe the actions Mario can take by viewing the states"
   ]
  },
  {
   "cell_type": "code",
   "execution_count": 3,
   "id": "fc2aa829",
   "metadata": {
    "scrolled": true
   },
   "outputs": [
    {
     "name": "stdout",
     "output_type": "stream",
     "text": [
      "[['NOOP'], ['right'], ['right', 'A'], ['right', 'B'], ['right', 'A', 'B'], ['A'], ['left']]\n"
     ]
    }
   ],
   "source": [
    "print(SIMPLE_MOVEMENT)"
   ]
  },
  {
   "cell_type": "markdown",
   "id": "5d523d99",
   "metadata": {},
   "source": [
    "As we can see Mario can only take 7 actions (note: NOOP means no operation/ do nothing)"
   ]
  },
  {
   "cell_type": "code",
   "execution_count": 4,
   "id": "d6b424f2",
   "metadata": {},
   "outputs": [
    {
     "name": "stderr",
     "output_type": "stream",
     "text": [
      "c:\\users\\tj\\appdata\\local\\programs\\python\\python39\\lib\\site-packages\\gym\\envs\\registration.py:505: UserWarning: \u001b[33mWARN: The environment SuperMarioBros-v0 is out of date. You should consider upgrading to version `v3` with the environment ID `SuperMarioBros-v3`.\u001b[0m\n",
      "  logger.warn(\n"
     ]
    }
   ],
   "source": [
    "#Setup the game\n",
    "env = gym_super_mario_bros.make('SuperMarioBros-v0') #create the game gym (world 1-1)\n",
    "env = JoypadSpace(env,SIMPLE_MOVEMENT) #simplify the number of inputs\n"
   ]
  },
  {
   "cell_type": "markdown",
   "id": "b9d64c9b",
   "metadata": {},
   "source": [
    "To check how many actions Mario can take we can simply view it "
   ]
  },
  {
   "cell_type": "code",
   "execution_count": 5,
   "id": "d83d10fd",
   "metadata": {
    "scrolled": true
   },
   "outputs": [
    {
     "name": "stdout",
     "output_type": "stream",
     "text": [
      "Discrete(7)\n"
     ]
    }
   ],
   "source": [
    "print(env.action_space)"
   ]
  },
  {
   "cell_type": "markdown",
   "id": "e641f9f6",
   "metadata": {},
   "source": [
    "## Play the game \n",
    "- details "
   ]
  },
  {
   "cell_type": "code",
   "execution_count": null,
   "id": "4bc76267",
   "metadata": {
    "scrolled": true
   },
   "outputs": [
    {
     "name": "stderr",
     "output_type": "stream",
     "text": [
      "c:\\users\\tj\\appdata\\local\\programs\\python\\python39\\lib\\site-packages\\pyglet\\image\\codecs\\wic.py:289: UserWarning: [WinError -2147417850] Cannot change thread mode after it is set\n",
      "  warnings.warn(str(err))\n",
      "c:\\users\\tj\\appdata\\local\\programs\\python\\python39\\lib\\site-packages\\gym_super_mario_bros\\smb_env.py:148: RuntimeWarning: overflow encountered in ubyte_scalars\n",
      "  return (self.ram[0x86] - self.ram[0x071c]) % 256\n"
     ]
    }
   ],
   "source": [
    "done = True #check if Mario has finished a stage and to restart the session \n",
    "\n",
    "for step in range(100000):\n",
    "    score = 0\n",
    "    if done:\n",
    "        #start the game\n",
    "        env.reset()\n",
    "    #get information on each step/frame of the game and also allow mario to take a random action \n",
    "    state,reward,done,info = env.step(env.action_space.sample())\n",
    "    score+=reward\n",
    "    #show the state of each frame /step \n",
    "    \n",
    "    #this will create a vary long output feel free to uncomment the print statement below\n",
    "    #print('Frame/step:{} Score:{} done:{}'.format(step,score,done)) \n",
    "\n",
    "    #render the gym (leave commented for faster completion time)\n",
    "    env.render()\n",
    "env.close()"
   ]
  },
  {
   "cell_type": "markdown",
   "id": "9f9aad55",
   "metadata": {},
   "source": [
    "Since at this stage Mario has not been trained it is likely he will simply be caught on the first pipe until the timer runs out\n",
    "![image](/mario_cannot_jump_high.png)"
   ]
  },
  {
   "cell_type": "markdown",
   "id": "147c9ab6",
   "metadata": {},
   "source": [
    "### Sources: \n",
    "- “Gym-super-mario-bros,” PyPI. [Online]. Available: https://pypi.org/project/gym-super-mario-bros/. [Accessed: 03-May-2022]. "
   ]
  }
 ],
 "metadata": {
  "kernelspec": {
   "display_name": "Python 3 (ipykernel)",
   "language": "python",
   "name": "python3"
  },
  "language_info": {
   "codemirror_mode": {
    "name": "ipython",
    "version": 3
   },
   "file_extension": ".py",
   "mimetype": "text/x-python",
   "name": "python",
   "nbconvert_exporter": "python",
   "pygments_lexer": "ipython3",
   "version": "3.9.6"
  }
 },
 "nbformat": 4,
 "nbformat_minor": 5
}
