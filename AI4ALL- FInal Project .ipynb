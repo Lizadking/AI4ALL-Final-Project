{
 "cells": [
  {
   "cell_type": "markdown",
   "id": "7d07962d",
   "metadata": {},
   "source": [
    "## Step 0. Install needed dependencies \n",
    "- For this step we will need the Super Mario Bros. Gym enviornment (https://pypi.org/project/gym-super-mario-bros/)"
   ]
  },
  {
   "cell_type": "markdown",
   "id": "147c9ab6",
   "metadata": {},
   "source": [
    "### Sources: \n",
    "- “Gym-super-mario-bros,” PyPI. [Online]. Available: https://pypi.org/project/gym-super-mario-bros/. [Accessed: 03-May-2022]. "
   ]
  }
 ],
 "metadata": {
  "kernelspec": {
   "display_name": "Python 3 (ipykernel)",
   "language": "python",
   "name": "python3"
  },
  "language_info": {
   "codemirror_mode": {
    "name": "ipython",
    "version": 3
   },
   "file_extension": ".py",
   "mimetype": "text/x-python",
   "name": "python",
   "nbconvert_exporter": "python",
   "pygments_lexer": "ipython3",
   "version": "3.9.6"
  }
 },
 "nbformat": 4,
 "nbformat_minor": 5
}
